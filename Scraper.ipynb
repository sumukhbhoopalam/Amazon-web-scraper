{
 "cells": [
  {
   "cell_type": "code",
   "execution_count": 21,
   "metadata": {},
   "outputs": [
    {
     "name": "stdout",
     "output_type": "stream",
     "text": [
      "Email sent\n",
      "151990.0\n",
      "Sony a7 III Full-Frame Mirrorless Interchangeable-Lens Camera (with 28-70mm F3.5-5.6 OSS Lens)\n"
     ]
    }
   ],
   "source": [
    "import requests\n",
    "from bs4 import BeautifulSoup\n",
    "import smtplib\n",
    "URL ='https://www.amazon.in/Sony-Full-Frame-Mirrorless-Interchangeable-Lens-F3-5-5-6/dp/B07B45D8WV/ref=sr_1_1?keywords=sony+a7&qid=1578048293&sr=8-1' \n",
    "headers = {\"User-Agent\": 'Mozilla/5.0 (Windows NT 6.3; Win64; x64) AppleWebKit/537.36 (KHTML, like Gecko) Chrome/79.0.3945.88 Safari/537.36'}\n",
    "\n",
    "def checkprice():\n",
    "    page = requests.get(URL,headers=headers)\n",
    "    soup=BeautifulSoup(page.content,'lxml')\n",
    "    title=soup.find(id=\"productTitle\").get_text()\n",
    "    price=soup.find(id=\"priceblock_ourprice\").get_text()\n",
    "    converted_price=float(price[1:10].replace(',',''))\n",
    "    if converted_price<160000:\n",
    "        send_mail()\n",
    "    print(converted_price)\n",
    "    print(title.strip())\n",
    "    \n",
    "def send_mail():\n",
    "    server=smtplib.SMTP('smtp.gmail.com',587)\n",
    "    server.ehlo()\n",
    "    server.starttls()\n",
    "    server.ehlo()\n",
    "    server.login('Your mail_id','Your Password')\n",
    "    subject=\"Price fell down\"\n",
    "    body=\"Body of the mail\"\n",
    "    msg=f\"Subject:{subject}\\n\\n{body}\"\n",
    "    server.sendmail(\n",
    "        'mail id of sender',\n",
    "        'mail id of receiver',\n",
    "        msg\n",
    "    )\n",
    "    print(\"Email sent\")\n",
    "    server.quit()\n",
    "    \n",
    "    \n",
    "checkprice()"
   ]
  }
 ],
 "metadata": {
  "kernelspec": {
   "display_name": "Python 3",
   "language": "python",
   "name": "python3"
  },
  "language_info": {
   "codemirror_mode": {
    "name": "ipython",
    "version": 3
   },
   "file_extension": ".py",
   "mimetype": "text/x-python",
   "name": "python",
   "nbconvert_exporter": "python",
   "pygments_lexer": "ipython3",
   "version": "3.6.5"
  }
 },
 "nbformat": 4,
 "nbformat_minor": 2
}
